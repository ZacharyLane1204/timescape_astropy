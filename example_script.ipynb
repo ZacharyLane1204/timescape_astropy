{
 "cells": [
  {
   "cell_type": "code",
   "execution_count": 1,
   "metadata": {},
   "outputs": [],
   "source": [
    "from timescape.timescape import timescape"
   ]
  },
  {
   "cell_type": "code",
   "execution_count": 3,
   "metadata": {},
   "outputs": [
    {
     "name": "stdout",
     "output_type": "stream",
     "text": [
      "test distance =  7108.47071162668\n"
     ]
    }
   ],
   "source": [
    "\n",
    "# H0 = 61.7 # dressed H0 value\n",
    "# fv0 = 0.695 # Void Fraction at present time\n",
    "# ts = timescape(fv0=fv0, H0=H0) # Initialise TS class\n",
    "ts = timescape() # Initialise TS class\n",
    "\n",
    "# print(\"test distance = \", ts.angular_diameter_distance([3], [1]))\n",
    "# print(\"test distance = \", ts.angular_diameter_distance([1], [3]))\n",
    "# print(\"test distance = \", ts.angular_diameter_distance([1,2], [3]))\n",
    "# print(\"test distance = \", ts.angular_diameter_distance([1], [3,2]))\n",
    "print(\"test distance = \", ts.luminosity_distance(1).value)"
   ]
  },
  {
   "cell_type": "code",
   "execution_count": null,
   "metadata": {},
   "outputs": [],
   "source": []
  }
 ],
 "metadata": {
  "kernelspec": {
   "display_name": "base",
   "language": "python",
   "name": "python3"
  },
  "language_info": {
   "codemirror_mode": {
    "name": "ipython",
    "version": 3
   },
   "file_extension": ".py",
   "mimetype": "text/x-python",
   "name": "python",
   "nbconvert_exporter": "python",
   "pygments_lexer": "ipython3",
   "version": "3.11.5"
  }
 },
 "nbformat": 4,
 "nbformat_minor": 2
}
